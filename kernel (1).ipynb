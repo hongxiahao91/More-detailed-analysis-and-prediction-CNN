{
  "cells": [
    {
      "metadata": {
        "_uuid": "8f2839f25d086af736a60e9eeb907d3b93b6e0e5",
        "_cell_guid": "b1076dfc-b9ad-4769-8c92-a6c4dae69d19",
        "trusted": true
      },
      "cell_type": "code",
      "source": "# This Python 3 environment comes with many helpful analytics libraries installed\n# It is defined by the kaggle/python docker image: https://github.com/kaggle/docker-python\n# For example, here's several helpful packages to load in \n\nimport numpy as np # linear algebra\nimport pandas as pd # data processing, CSV file I/O (e.g. pd.read_csv)\n\n# Input data files are available in the \"../input/\" directory.\n# For example, running this (by clicking run or pressing Shift+Enter) will list the files in the input directory\nfrom glob import glob\nimport os\nprint(os.listdir(\"../input\"))\n\n# Any results you write to the current directory are saved as output.",
      "execution_count": 71,
      "outputs": [
        {
          "output_type": "stream",
          "text": "['sample', 'sample_labels.csv']\n",
          "name": "stdout"
        }
      ]
    },
    {
      "metadata": {
        "trusted": true,
        "_uuid": "63497f7c699debcaec68312d386b32111d76a5e5"
      },
      "cell_type": "code",
      "source": "# ../input/\nPATH = os.path.abspath(os.path.join('..', 'input'))\n\n# ../input/sample/images/\nSOURCE_IMAGES = os.path.join(PATH, \"sample\", \"images\")\n\n# ../input/sample/images/*.png\nimages = glob(os.path.join(SOURCE_IMAGES, \"*.png\"))\n\n# Load labels\nlabels = pd.read_csv('../input/sample_labels.csv')",
      "execution_count": 72,
      "outputs": []
    },
    {
      "metadata": {
        "trusted": true,
        "_uuid": "136e6044c071eb456e788633dacb4d89a10fd90c"
      },
      "cell_type": "code",
      "source": "labels.head()",
      "execution_count": 73,
      "outputs": [
        {
          "output_type": "execute_result",
          "execution_count": 73,
          "data": {
            "text/plain": "        Image Index             ...             OriginalImagePixelSpacing_y\n0  00000013_005.png             ...                                   0.139\n1  00000013_026.png             ...                                   0.168\n2  00000017_001.png             ...                                   0.168\n3  00000030_001.png             ...                                   0.143\n4  00000032_001.png             ...                                   0.168\n\n[5 rows x 11 columns]",
            "text/html": "<div>\n<style scoped>\n    .dataframe tbody tr th:only-of-type {\n        vertical-align: middle;\n    }\n\n    .dataframe tbody tr th {\n        vertical-align: top;\n    }\n\n    .dataframe thead th {\n        text-align: right;\n    }\n</style>\n<table border=\"1\" class=\"dataframe\">\n  <thead>\n    <tr style=\"text-align: right;\">\n      <th></th>\n      <th>Image Index</th>\n      <th>Finding Labels</th>\n      <th>Follow-up #</th>\n      <th>Patient ID</th>\n      <th>Patient Age</th>\n      <th>Patient Gender</th>\n      <th>View Position</th>\n      <th>OriginalImageWidth</th>\n      <th>OriginalImageHeight</th>\n      <th>OriginalImagePixelSpacing_x</th>\n      <th>OriginalImagePixelSpacing_y</th>\n    </tr>\n  </thead>\n  <tbody>\n    <tr>\n      <th>0</th>\n      <td>00000013_005.png</td>\n      <td>Emphysema|Infiltration|Pleural_Thickening|Pneu...</td>\n      <td>5</td>\n      <td>13</td>\n      <td>060Y</td>\n      <td>M</td>\n      <td>AP</td>\n      <td>3056</td>\n      <td>2544</td>\n      <td>0.139</td>\n      <td>0.139</td>\n    </tr>\n    <tr>\n      <th>1</th>\n      <td>00000013_026.png</td>\n      <td>Cardiomegaly|Emphysema</td>\n      <td>26</td>\n      <td>13</td>\n      <td>057Y</td>\n      <td>M</td>\n      <td>AP</td>\n      <td>2500</td>\n      <td>2048</td>\n      <td>0.168</td>\n      <td>0.168</td>\n    </tr>\n    <tr>\n      <th>2</th>\n      <td>00000017_001.png</td>\n      <td>No Finding</td>\n      <td>1</td>\n      <td>17</td>\n      <td>077Y</td>\n      <td>M</td>\n      <td>AP</td>\n      <td>2500</td>\n      <td>2048</td>\n      <td>0.168</td>\n      <td>0.168</td>\n    </tr>\n    <tr>\n      <th>3</th>\n      <td>00000030_001.png</td>\n      <td>Atelectasis</td>\n      <td>1</td>\n      <td>30</td>\n      <td>079Y</td>\n      <td>M</td>\n      <td>PA</td>\n      <td>2992</td>\n      <td>2991</td>\n      <td>0.143</td>\n      <td>0.143</td>\n    </tr>\n    <tr>\n      <th>4</th>\n      <td>00000032_001.png</td>\n      <td>Cardiomegaly|Edema|Effusion</td>\n      <td>1</td>\n      <td>32</td>\n      <td>055Y</td>\n      <td>F</td>\n      <td>AP</td>\n      <td>2500</td>\n      <td>2048</td>\n      <td>0.168</td>\n      <td>0.168</td>\n    </tr>\n  </tbody>\n</table>\n</div>"
          },
          "metadata": {}
        }
      ]
    },
    {
      "metadata": {
        "_uuid": "6c7a54916ed31e947df92ab9f0659aabc280e6a2"
      },
      "cell_type": "markdown",
      "source": "###Since there are some questions about the accuracy of the data labeling as discussed elsewhere, https://lukeoakdenrayner.wordpress.com/2017/12/18/the-chestxray14-dataset-problems/,  I want to make this data analysis meaningful by only detecting informative information by distinguishing between No Finding and Have Finding. This is already very valuable for helping doctors confirm the thought when facing some vague images."
    },
    {
      "metadata": {
        "_uuid": "b64ada53fb79e1828ccd21084f2e0589a7ecf196"
      },
      "cell_type": "markdown",
      "source": "###Here I want to dig into the age distribution of Have Findings for both female and male."
    },
    {
      "metadata": {
        "_cell_guid": "79c7e3d0-c299-4dcb-8224-4455121ee9b0",
        "_uuid": "d629ff2d2480ee46fbb7e2d37f6b5fab8052498a",
        "trusted": true
      },
      "cell_type": "code",
      "source": "labels['Age Type']=labels['Patient Age'].apply(lambda x: x[-1:])\nlabels['Age Type'].unique()  # => Y, M and D",
      "execution_count": null,
      "outputs": []
    },
    {
      "metadata": {
        "trusted": true,
        "_uuid": "61b72f9982b62abb68d1821b62f661194dc3e61a"
      },
      "cell_type": "code",
      "source": "labels['Age']=labels['Patient Age'].apply(lambda x: x[:-1]).astype(int)",
      "execution_count": null,
      "outputs": []
    },
    {
      "metadata": {
        "trusted": true,
        "_uuid": "309bc51e449456a7e39d5ce40a60e85223f0a436"
      },
      "cell_type": "code",
      "source": "labels.loc[labels['Age Type']=='M',['Age']] = labels[labels['Age Type']=='M']['Age'].apply(lambda x: x/12).astype(int)\nlabels.loc[labels['Age Type']=='D',['Age']] = labels[labels['Age Type']=='D']['Age'].apply(lambda x: x/365).astype(int)",
      "execution_count": null,
      "outputs": []
    },
    {
      "metadata": {
        "trusted": true,
        "_uuid": "1381163a73825a4c5a154186f6bb65819de6aed4"
      },
      "cell_type": "code",
      "source": "labels[labels['Age Type']=='M']",
      "execution_count": null,
      "outputs": []
    },
    {
      "metadata": {
        "trusted": true,
        "_uuid": "facd72531e42d754bf3459fb0dabb578e5cd9133"
      },
      "cell_type": "code",
      "source": "labels[labels['Finding Labels'] == 'No Finding']['Follow-up #'].value_counts()",
      "execution_count": null,
      "outputs": []
    },
    {
      "metadata": {
        "trusted": true,
        "_uuid": "ee32834a74016efc716d601fa9a34a67ac6eab39"
      },
      "cell_type": "code",
      "source": "labels[(labels['Finding Labels'] == 'No Finding')& (labels['Follow-up #'] == 148)]['Age']",
      "execution_count": null,
      "outputs": []
    },
    {
      "metadata": {
        "trusted": true,
        "_uuid": "6a6b0d255d22046d1346d3a6b8fd3c94c881f74f"
      },
      "cell_type": "code",
      "source": "labels['NumLabel']=labels['Finding Labels'].apply(lambda x: 'No Finding' if 'No Finding' in x else 'Found!')",
      "execution_count": null,
      "outputs": []
    },
    {
      "metadata": {
        "trusted": true,
        "_uuid": "cc23e0e482075e1f9ffb5d9da6cafc18d7ef3d94"
      },
      "cell_type": "code",
      "source": "labels[labels['Finding Labels'] != 'No Finding'].shape[0]",
      "execution_count": null,
      "outputs": []
    },
    {
      "metadata": {
        "trusted": true,
        "_uuid": "a168c6b6519d21d08582d836dd8fbf640e72e5a1"
      },
      "cell_type": "code",
      "source": "labels['Path'] = labels['Image Index'].apply(lambda x: os.path.join(SOURCE_IMAGES,x))",
      "execution_count": null,
      "outputs": []
    },
    {
      "metadata": {
        "_uuid": "b7413e01ccd9fe27068bb0f1fc128165b83e281a",
        "trusted": true
      },
      "cell_type": "code",
      "source": "labels.head()",
      "execution_count": null,
      "outputs": []
    },
    {
      "metadata": {
        "trusted": true,
        "_uuid": "055c3e42dccc79da788aed17cb3b625c07b4d1db"
      },
      "cell_type": "code",
      "source": "# load in all of the images\nfrom skimage.io import imread\nlabels['image'] = labels['Path'].map(imread)",
      "execution_count": null,
      "outputs": []
    },
    {
      "metadata": {
        "trusted": true,
        "_uuid": "e716bb157551187494d3da43f33356101b248adb"
      },
      "cell_type": "code",
      "source": "# see the image size distribution\nlabels['image'].map(lambda x: x.shape).value_counts()",
      "execution_count": null,
      "outputs": []
    },
    {
      "metadata": {
        "trusted": true,
        "_uuid": "18bd9916fedd361c1dcaaec9d5bc9ec8a5316617"
      },
      "cell_type": "code",
      "source": "import matplotlib.pyplot as plt\nn_samples = 5\nfig, m_axs = plt.subplots(2, n_samples, figsize = (3*n_samples, 3*2))\nfor n_axs, (type_name, type_rows) in zip(m_axs, \n                                         labels.sort_values(['NumLabel']).groupby('NumLabel')):\n    n_axs[0].set_title(type_name)\n    for c_ax, (_, c_row) in zip(n_axs, type_rows.sample(n_samples, random_state=2018).iterrows()):\n        c_ax.imshow(c_row['image'],cmap = 'bone')\n        c_ax.axis('off')\nfig.savefig('category_samples.png', dpi=300)",
      "execution_count": null,
      "outputs": []
    },
    {
      "metadata": {
        "trusted": true,
        "_uuid": "a9ce05160e9b573d6d1c878816867cd22eaebc54"
      },
      "cell_type": "code",
      "source": "labels['NumLabel']=labels['Finding Labels'].apply(lambda x: 0 if 'No Finding' in x else 1)",
      "execution_count": null,
      "outputs": []
    },
    {
      "metadata": {
        "trusted": true,
        "_uuid": "4e00edb49b167682649b653992c8fba3a77a36cc"
      },
      "cell_type": "code",
      "source": "import cv2\ndef get_data():\n    imgs_x = []\n    label_y = []\n    for index, row in labels.iterrows():\n        if row['image'].shape == (1024,1024):\n            imgs_x.append(cv2.resize(row['image'], (150,150), interpolation=cv2.INTER_CUBIC))\n            label_y.append(row['NumLabel'])\n    return imgs_x, label_y    ",
      "execution_count": null,
      "outputs": []
    },
    {
      "metadata": {
        "trusted": true,
        "_uuid": "fd4de6a7612f9c9c0d0ce07610d41f491502a52e"
      },
      "cell_type": "code",
      "source": "X, Y = get_data()\nX = np.array(X)/255\nX= np.reshape(X, X.shape + (1,))\nY = np.array(Y)",
      "execution_count": null,
      "outputs": []
    },
    {
      "metadata": {
        "trusted": true,
        "_uuid": "5561d17781f311565baf49f7ee99a256b01a48f6"
      },
      "cell_type": "code",
      "source": "X.shape",
      "execution_count": null,
      "outputs": []
    },
    {
      "metadata": {
        "trusted": true,
        "_uuid": "529809a84e7d17c2d8148b3b14f3c29c02807814"
      },
      "cell_type": "code",
      "source": "from sklearn.model_selection import train_test_split    \nX_train, X_test, y_train, y_test = train_test_split(X, Y, test_size=0.3, random_state=2018)\nprint('Train Shape', X_train.shape, 'test shape', X_test.shape)",
      "execution_count": null,
      "outputs": []
    },
    {
      "metadata": {
        "trusted": true,
        "scrolled": false,
        "_uuid": "13f1a199b076e1f49be48c30948a1a0d8053c0e0"
      },
      "cell_type": "code",
      "source": "from keras.models import Sequential\nfrom keras.optimizers import SGD\nfrom keras.utils.vis_utils import plot_model\nfrom keras.layers import Dropout\nfrom keras.layers.convolutional import Conv2D, MaxPooling2D\nfrom keras.layers.core import Dense, Dropout, Activation, Flatten\nfrom keras.preprocessing.image import ImageDataGenerator\nfrom keras.optimizers import RMSprop\n\n\nmodel = Sequential()\n# conv1\nmodel.add(Conv2D(32, kernel_size=(6,6),\n                activation='relu',\n                border_mode='same',\n                input_shape=(150,150,1)))\nmodel.add(MaxPooling2D(pool_size=(2, 2)))\n\n# conv2\nmodel.add(Conv2D(64, kernel_size=(2,2),\n                 activation='relu',\n                 border_mode='same'))\nmodel.add(MaxPooling2D(pool_size=(2, 2)))\n\n# fc\nmodel.add(Flatten())\nmodel.add(Dense(128, activation='relu'))\nmodel.add(Dropout(0.5))\nmodel.add(Dense(1, activation='sigmoid'))\n\n#model.compile(loss='binary_crossentropy', optimizer='adadelta', metrics=['accuracy'])\n\n#history = model.fit(X_train, y_train, epochs = 30, batch_size = 40, verbose=1, validation_split=0.20)",
      "execution_count": null,
      "outputs": []
    },
    {
      "metadata": {
        "trusted": true,
        "_uuid": "934c9587eb1d9e443566696a9ee74a1af454f2b8"
      },
      "cell_type": "code",
      "source": "import matplotlib.pyplot as plt\n\nplt.plot(history.history['acc'])\nplt.plot(history.history['val_acc'])\nplt.title('model accuracy')\nplt.ylabel('accuracy')\nplt.xlabel('epoch')\nplt.legend(['train', 'test'], loc='upper left')\nplt.show()\n# summarize history for loss\nplt.plot(history.history['loss'])\nplt.plot(history.history['val_loss'])\nplt.title('model loss')\nplt.ylabel('loss')\nplt.xlabel('epoch')\nplt.legend(['train', 'test'], loc='upper left')\nplt.show()",
      "execution_count": null,
      "outputs": []
    },
    {
      "metadata": {
        "trusted": true,
        "_uuid": "981cc6042070d92d883e03292818ff333d1b8b53"
      },
      "cell_type": "code",
      "source": "",
      "execution_count": null,
      "outputs": []
    },
    {
      "metadata": {
        "trusted": true,
        "_uuid": "494f3488d8b02ef5de3d40ee6e85c2506b1f5918"
      },
      "cell_type": "code",
      "source": "",
      "execution_count": null,
      "outputs": []
    }
  ],
  "metadata": {
    "kernelspec": {
      "display_name": "Python 3",
      "language": "python",
      "name": "python3"
    },
    "language_info": {
      "name": "python",
      "version": "3.6.6",
      "mimetype": "text/x-python",
      "codemirror_mode": {
        "name": "ipython",
        "version": 3
      },
      "pygments_lexer": "ipython3",
      "nbconvert_exporter": "python",
      "file_extension": ".py"
    }
  },
  "nbformat": 4,
  "nbformat_minor": 1
}
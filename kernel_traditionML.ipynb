{
  "cells": [
    {
      "metadata": {
        "_uuid": "8f2839f25d086af736a60e9eeb907d3b93b6e0e5",
        "_cell_guid": "b1076dfc-b9ad-4769-8c92-a6c4dae69d19",
        "trusted": true
      },
      "cell_type": "code",
      "source": "# This Python 3 environment comes with many helpful analytics libraries installed\n# It is defined by the kaggle/python docker image: https://github.com/kaggle/docker-python\n# For example, here's several helpful packages to load in \n\nimport numpy as np # linear algebra\nimport pandas as pd # data processing, CSV file I/O (e.g. pd.read_csv)\nimport matplotlib.pyplot as plt\nimport seaborn as sns\nfrom skimage.io import imread\nimport cv2\n\n# Input data files are available in the \"../input/\" directory.\n# For example, running this (by clicking run or pressing Shift+Enter) will list the files in the input directory\nfrom glob import glob\nimport os\nprint(os.listdir(\"../input\"))\n\n# Any results you write to the current directory are saved as output.",
      "execution_count": null,
      "outputs": []
    },
    {
      "metadata": {
        "_cell_guid": "79c7e3d0-c299-4dcb-8224-4455121ee9b0",
        "_uuid": "d629ff2d2480ee46fbb7e2d37f6b5fab8052498a",
        "trusted": true
      },
      "cell_type": "code",
      "source": "# ../input/\nPATH = os.path.abspath(os.path.join('..', 'input'))\n\n# ../input/sample/images/\nSOURCE_IMAGES = os.path.join(PATH, \"sample\", \"images\")\n\n# ../input/sample/images/*.png\nimages = glob(os.path.join(SOURCE_IMAGES, \"*.png\"))\n\n# Load labels\nlabels = pd.read_csv('../input/sample_labels.csv')",
      "execution_count": null,
      "outputs": []
    },
    {
      "metadata": {
        "trusted": true,
        "_uuid": "aebbd916bfe17adee6355ad6ae09234f865eefd3"
      },
      "cell_type": "code",
      "source": "labels.head(5)",
      "execution_count": null,
      "outputs": []
    },
    {
      "metadata": {
        "trusted": true,
        "_uuid": "4fd15ad692eeed23f73a86bff27573a416e792ee"
      },
      "cell_type": "code",
      "source": "# load in all of the images\nlabels['path'] = labels['Image Index'].apply(lambda x: os.path.join(SOURCE_IMAGES,x))\nlabels['image'] = labels['path'].map(imread)",
      "execution_count": null,
      "outputs": []
    },
    {
      "metadata": {
        "trusted": true,
        "_uuid": "20181e73d072e11697cd5183f41f60829fe298ec"
      },
      "cell_type": "code",
      "source": "# see the image size distribution\nlabels['image'].map(lambda x: x.shape).value_counts()",
      "execution_count": null,
      "outputs": []
    },
    {
      "metadata": {
        "trusted": true,
        "_uuid": "d3f697d5ef3942686ba014a3cdd0371d55c9228c"
      },
      "cell_type": "code",
      "source": "labels['image'][0].shape",
      "execution_count": null,
      "outputs": []
    },
    {
      "metadata": {
        "trusted": true,
        "_uuid": "d3a4154ba7e9b667633e8211fb58da135ad8ff97"
      },
      "cell_type": "code",
      "source": "labels['NumLabel']=labels['Finding Labels'].apply(lambda x: 0 if 'No Finding' in x else 1)",
      "execution_count": null,
      "outputs": []
    },
    {
      "metadata": {
        "trusted": true,
        "_uuid": "99725482c93abae1dd35a2f2d8c3ad40a6a444fb"
      },
      "cell_type": "code",
      "source": "IMG_SIZE = (128,128)\nprint(IMG_SIZE[0])\ndef get_data():\n    imgs_x = []\n    label_y = []\n    for index, row in labels.iterrows():\n        if row['image'].shape == (1024,1024):\n            imgs_x.append(cv2.resize(row['image'], (IMG_SIZE[0],IMG_SIZE[1]), interpolation=cv2.INTER_CUBIC).flatten())\n            label_y.append(row['NumLabel'])\n    return imgs_x, label_y    ",
      "execution_count": null,
      "outputs": []
    },
    {
      "metadata": {
        "trusted": true,
        "_uuid": "b56f6eb319961de2142d4c278cca4388c84311f3"
      },
      "cell_type": "code",
      "source": "X, Y = get_data()\nX = np.array(X)/255\n#X= np.reshape(X, X.shape + (1,))\nY = np.array(Y)",
      "execution_count": null,
      "outputs": []
    },
    {
      "metadata": {
        "trusted": true,
        "_uuid": "e3bfcd16d1308e505fe244d06d3b7350b9fd9f67"
      },
      "cell_type": "code",
      "source": "X.shape",
      "execution_count": null,
      "outputs": []
    },
    {
      "metadata": {
        "trusted": true,
        "_uuid": "c3530e6786d80dacdf69c88a0983970016e5b9c8"
      },
      "cell_type": "code",
      "source": "from sklearn.model_selection import train_test_split    \nX_train, X_test, y_train, y_test = train_test_split(X, Y, test_size=0.2, random_state=2018)\nprint('Train Shape', X_train.shape, 'test shape', X_test.shape)",
      "execution_count": null,
      "outputs": []
    },
    {
      "metadata": {
        "_uuid": "2c10ebfd75178c12ea6ca697940f4230a28ee402"
      },
      "cell_type": "markdown",
      "source": "##flatten the data into 1-D\nX_train = X_train.flatten()\nX_test = X_test.flatten()"
    },
    {
      "metadata": {
        "trusted": true,
        "_uuid": "f6411e095ee2d5a3d9f840149ec218defed86f3e"
      },
      "cell_type": "code",
      "source": "from sklearn.metrics import classification_report, confusion_matrix",
      "execution_count": null,
      "outputs": []
    },
    {
      "metadata": {
        "trusted": true,
        "_uuid": "7a89da102835de6301386831398d50b2392053ac"
      },
      "cell_type": "code",
      "source": "##K-NN\nfrom sklearn.neighbors import KNeighborsClassifier\nprint(\"\\n\")\nprint(\"[INFO] evaluating raw pixel accuracy...\")\nmodel = KNeighborsClassifier(n_neighbors=1000)\nmodel.fit(X_train, y_train)\nacc = model.score(X_test, y_test)\nprint(\"[INFO] k-NN classifier: k=%d\" % 1000)\nprint(\"[INFO] raw pixel accuracy: {:.2f}%\".format(acc * 100))",
      "execution_count": null,
      "outputs": []
    },
    {
      "metadata": {
        "trusted": true,
        "_uuid": "c462360f0f710dd63ff52d59a637d490eb0d015d"
      },
      "cell_type": "code",
      "source": "#neural network\nfrom sklearn.neural_network import MLPClassifier\nprint(\"\\n\")\nprint(\"[INFO] evaluating raw pixel accuracy...\")\nmodel = MLPClassifier(hidden_layer_sizes=(5,), max_iter=1000, alpha=1e-4,\n                      solver='sgd', tol=1e-4, random_state=1,\n                      learning_rate_init=1e-3)\nmodel.fit(X_train, y_train)\nacc = model.score(X_test, y_test)\nprint(\"[INFO] hidden_layer_size is: %d\" % 5)\nprint(\"[INFO] neural network raw pixel accuracy: {:.2f}%\".format(acc * 100))",
      "execution_count": null,
      "outputs": []
    },
    {
      "metadata": {
        "trusted": true,
        "_uuid": "ff147bb941db4d73034f82821649fc95ebd54e20"
      },
      "cell_type": "code",
      "source": "#SVC\nfrom sklearn.svm import SVC\nprint(\"\\n\")\nprint(\"[INFO] evaluating raw pixel accuracy...\")\nmodel = SVC(max_iter=2000,class_weight='balanced',C = 5, gamma = 0.1)\nmodel.fit(X_train, y_train)\nacc = model.score(X_test, y_test)\nprint(\"[INFO] SVM-SVC raw pixel accuracy: {:.2f}%\".format(acc * 100))\n\n#from sklearn.grid_search import GridSearchCV\n#param_grid = {'C':[0.1,1,10,100],'gamma':[1,0.1,0.01,0.001]}\n#grid = GridSearchCV(SVC(),param_grid,verbose=1)\n#grid.fit(X_train, y_train)",
      "execution_count": null,
      "outputs": []
    },
    {
      "metadata": {
        "trusted": true,
        "_uuid": "f4f0b5b5012d71e97b592881fbfa3fe4021d1246"
      },
      "cell_type": "code",
      "source": "##Random Forest\nfrom sklearn.ensemble import RandomForestClassifier\nprint(\"\\n\")\nprint(\"[INFO] evaluating raw pixel accuracy...\")\nmodel = RandomForestClassifier(n_estimators=200)\nmodel.fit(X_train, y_train)\nacc = model.score(X_test, y_test)\nprint(\"[INFO] Random Forest raw pixel accuracy: {:.2f}%\".format(acc * 100))\ny_predict = model.predict(X_test)\nprint(confusion_matrix(y_test, y_predict))\nprint('\\n')\nprint(classification_report(y_test,y_predict))",
      "execution_count": null,
      "outputs": []
    }
  ],
  "metadata": {
    "kernelspec": {
      "display_name": "Python 3",
      "language": "python",
      "name": "python3"
    },
    "language_info": {
      "name": "python",
      "version": "3.6.6",
      "mimetype": "text/x-python",
      "codemirror_mode": {
        "name": "ipython",
        "version": 3
      },
      "pygments_lexer": "ipython3",
      "nbconvert_exporter": "python",
      "file_extension": ".py"
    }
  },
  "nbformat": 4,
  "nbformat_minor": 1
}